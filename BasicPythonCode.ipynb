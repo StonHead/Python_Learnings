{
  "nbformat": 4,
  "nbformat_minor": 0,
  "metadata": {
    "colab": {
      "provenance": [],
      "authorship_tag": "ABX9TyPFPvbwDu2zS+mzrSqvqPuz",
      "include_colab_link": true
    },
    "kernelspec": {
      "name": "python3",
      "display_name": "Python 3"
    },
    "language_info": {
      "name": "python"
    }
  },
  "cells": [
    {
      "cell_type": "markdown",
      "metadata": {
        "id": "view-in-github",
        "colab_type": "text"
      },
      "source": [
        "<a href=\"https://colab.research.google.com/github/StonHead/API_Assessment/blob/main/Untitled13.ipynb\" target=\"_parent\"><img src=\"https://colab.research.google.com/assets/colab-badge.svg\" alt=\"Open In Colab\"/></a>"
      ]
    },
    {
      "cell_type": "markdown",
      "source": [
        "Print even numbers from 1 to 100"
      ],
      "metadata": {
        "id": "fgsgQMEpBHws"
      }
    },
    {
      "cell_type": "code",
      "source": [
        "for a in range(1,101):\n",
        "  if(a%2==0):\n",
        "    print(a)"
      ],
      "metadata": {
        "id": "H2z6qCVQ_3Xt"
      },
      "execution_count": null,
      "outputs": []
    },
    {
      "cell_type": "markdown",
      "source": [
        "Even numbers using lambda function"
      ],
      "metadata": {
        "id": "FQ5MyOX4BC4Q"
      }
    },
    {
      "cell_type": "code",
      "execution_count": null,
      "metadata": {
        "id": "JnFelQe2_AN8"
      },
      "outputs": [],
      "source": [
        "even = lambda x : x*2\n",
        "\n",
        "for a in range(1,100):\n",
        "  if(even(a)<=100):\n",
        "    print(even(a))"
      ]
    },
    {
      "cell_type": "markdown",
      "source": [
        "Check whether a given year is a leap year or not"
      ],
      "metadata": {
        "id": "yu9f6nm8AVp1"
      }
    },
    {
      "cell_type": "code",
      "source": [],
      "metadata": {
        "id": "yH2JrfMYAlYR"
      },
      "execution_count": null,
      "outputs": []
    },
    {
      "cell_type": "markdown",
      "source": [
        "Print prime Numbers b/w 1 to 100"
      ],
      "metadata": {
        "id": "gxQhyXPQAOJJ"
      }
    },
    {
      "cell_type": "code",
      "source": [
        "def is_prime(start,end):\n",
        "  prime = list()\n",
        "\n",
        "  sieve = [True]*(end+1)\n",
        "\n",
        "#below 2 is the starting point in range instead of start because 1 is not a prime no. so range will always starts from 2\n",
        "\n",
        "  for a in range(2,end+1):\n",
        "    if(sieve[a]):\n",
        "      if(a>=start):\n",
        "        prime.append(a)\n",
        "    for b in range(a,end+1,a):\n",
        "      sieve[b] = False\n",
        "\n",
        "  return prime\n",
        "\n",
        "#added below variable to optimized the code so that there is no need to call a function twice in the print command, please provide input in below variable to run\n",
        "result = is_prime(start,end)\n",
        "\n",
        "print(\"Total no. of prime nos.:\" , len(result))\n",
        "print(result)"
      ],
      "metadata": {
        "colab": {
          "base_uri": "https://localhost:8080/"
        },
        "id": "76GIFq3IAMqG",
        "outputId": "37917373-96ff-49c9-ca84-a3a1af97ec3b"
      },
      "execution_count": 50,
      "outputs": [
        {
          "output_type": "stream",
          "name": "stdout",
          "text": [
            "Total no. of prime nos.: 21\n",
            "[11, 13, 17, 19, 23, 29, 31, 37, 41, 43, 47, 53, 59, 61, 67, 71, 73, 79, 83, 89, 97]\n"
          ]
        }
      ]
    },
    {
      "cell_type": "markdown",
      "source": [
        "Merging 3 lists together"
      ],
      "metadata": {
        "id": "XlmYXBziCPmK"
      }
    },
    {
      "cell_type": "code",
      "source": [
        "a = [1,2,3]\n",
        "b = [4,5,6]\n",
        "c = [7,8,9]\n",
        "\n",
        "d = zip(a,b,c)\n",
        "print(list(d))"
      ],
      "metadata": {
        "colab": {
          "base_uri": "https://localhost:8080/"
        },
        "id": "K6SUkKcmCXxM",
        "outputId": "b84e511b-954c-475c-c984-b59366130d22"
      },
      "execution_count": 6,
      "outputs": [
        {
          "output_type": "stream",
          "name": "stdout",
          "text": [
            "[(1, 4, 7), (2, 5, 8), (3, 6, 9)]\n"
          ]
        }
      ]
    },
    {
      "cell_type": "code",
      "source": [
        "for a in range (2,3):\n",
        "  print(a)"
      ],
      "metadata": {
        "colab": {
          "base_uri": "https://localhost:8080/"
        },
        "id": "2EAGnNx5Fowt",
        "outputId": "3aaf32c0-4783-44f8-e1ac-9421b5559232"
      },
      "execution_count": 16,
      "outputs": [
        {
          "output_type": "stream",
          "name": "stdout",
          "text": [
            "2\n"
          ]
        }
      ]
    }
  ]
}
